{
 "cells": [
  {
   "cell_type": "code",
   "execution_count": 21,
   "metadata": {},
   "outputs": [
    {
     "data": {
      "text/html": [
       "<div>\n",
       "<style scoped>\n",
       "    .dataframe tbody tr th:only-of-type {\n",
       "        vertical-align: middle;\n",
       "    }\n",
       "\n",
       "    .dataframe tbody tr th {\n",
       "        vertical-align: top;\n",
       "    }\n",
       "\n",
       "    .dataframe thead th {\n",
       "        text-align: right;\n",
       "    }\n",
       "</style>\n",
       "<table border=\"1\" class=\"dataframe\">\n",
       "  <thead>\n",
       "    <tr style=\"text-align: right;\">\n",
       "      <th></th>\n",
       "      <th>NU_ANO</th>\n",
       "      <th>CO_UF_RESIDENCIA</th>\n",
       "      <th>CO_MUNICIPIO_RESIDENCIA</th>\n",
       "      <th>NU_INSCRICAO</th>\n",
       "      <th>SG_UF_RESIDENCIA</th>\n",
       "      <th>NO_MUNICIPIO_RESIDENCIA</th>\n",
       "      <th>NU_IDADE</th>\n",
       "      <th>TP_SEXO</th>\n",
       "      <th>TP_ESCOLA</th>\n",
       "      <th>IN_DEFICIENCIA_FISICA</th>\n",
       "      <th>...</th>\n",
       "      <th>IN_DEFICIENCIA_AUDITIVA</th>\n",
       "      <th>IN_CADEIRA_CANHOTO</th>\n",
       "      <th>NU_NOTA_CN</th>\n",
       "      <th>NU_NOTA_CH</th>\n",
       "      <th>NU_NOTA_LC</th>\n",
       "      <th>NU_NOTA_MT</th>\n",
       "      <th>TP_LINGUA</th>\n",
       "      <th>TP_STATUS_REDACAO</th>\n",
       "      <th>NU_NOTA_REDACAO</th>\n",
       "      <th>NOTA_MEDIA</th>\n",
       "    </tr>\n",
       "  </thead>\n",
       "  <tbody>\n",
       "    <tr>\n",
       "      <th>0</th>\n",
       "      <td>2015.0</td>\n",
       "      <td>26.0</td>\n",
       "      <td>2609600.0</td>\n",
       "      <td>1.500000e+11</td>\n",
       "      <td>PE</td>\n",
       "      <td>Olinda</td>\n",
       "      <td>NaN</td>\n",
       "      <td>M</td>\n",
       "      <td>1</td>\n",
       "      <td>0</td>\n",
       "      <td>...</td>\n",
       "      <td>0</td>\n",
       "      <td>0</td>\n",
       "      <td>443.60</td>\n",
       "      <td>519.10</td>\n",
       "      <td>521.2</td>\n",
       "      <td>385.70</td>\n",
       "      <td>0</td>\n",
       "      <td>1</td>\n",
       "      <td>520.0</td>\n",
       "      <td>477.920</td>\n",
       "    </tr>\n",
       "    <tr>\n",
       "      <th>1</th>\n",
       "      <td>2015.0</td>\n",
       "      <td>52.0</td>\n",
       "      <td>5211909.0</td>\n",
       "      <td>1.500000e+11</td>\n",
       "      <td>GO</td>\n",
       "      <td>Jataí</td>\n",
       "      <td>43.0</td>\n",
       "      <td>F</td>\n",
       "      <td>1</td>\n",
       "      <td>0</td>\n",
       "      <td>...</td>\n",
       "      <td>0</td>\n",
       "      <td>0</td>\n",
       "      <td>4.05</td>\n",
       "      <td>428.90</td>\n",
       "      <td>340.3</td>\n",
       "      <td>453.40</td>\n",
       "      <td>0</td>\n",
       "      <td>1</td>\n",
       "      <td>480.0</td>\n",
       "      <td>341.330</td>\n",
       "    </tr>\n",
       "    <tr>\n",
       "      <th>2</th>\n",
       "      <td>2015.0</td>\n",
       "      <td>27.0</td>\n",
       "      <td>2704302.0</td>\n",
       "      <td>1.500000e+11</td>\n",
       "      <td>AL</td>\n",
       "      <td>Maceió</td>\n",
       "      <td>18.0</td>\n",
       "      <td>F</td>\n",
       "      <td>1</td>\n",
       "      <td>0</td>\n",
       "      <td>...</td>\n",
       "      <td>0</td>\n",
       "      <td>0</td>\n",
       "      <td>673.70</td>\n",
       "      <td>6.73</td>\n",
       "      <td>600.5</td>\n",
       "      <td>7.51</td>\n",
       "      <td>0</td>\n",
       "      <td>1</td>\n",
       "      <td>880.0</td>\n",
       "      <td>433.688</td>\n",
       "    </tr>\n",
       "    <tr>\n",
       "      <th>3</th>\n",
       "      <td>2015.0</td>\n",
       "      <td>14.0</td>\n",
       "      <td>1400100.0</td>\n",
       "      <td>1.500000e+11</td>\n",
       "      <td>RR</td>\n",
       "      <td>Boa Vista</td>\n",
       "      <td>34.0</td>\n",
       "      <td>M</td>\n",
       "      <td>1</td>\n",
       "      <td>0</td>\n",
       "      <td>...</td>\n",
       "      <td>0</td>\n",
       "      <td>0</td>\n",
       "      <td>457.90</td>\n",
       "      <td>598.90</td>\n",
       "      <td>532.8</td>\n",
       "      <td>506.20</td>\n",
       "      <td>1</td>\n",
       "      <td>1</td>\n",
       "      <td>600.0</td>\n",
       "      <td>539.160</td>\n",
       "    </tr>\n",
       "    <tr>\n",
       "      <th>4</th>\n",
       "      <td>2015.0</td>\n",
       "      <td>26.0</td>\n",
       "      <td>2611606.0</td>\n",
       "      <td>1.500000e+11</td>\n",
       "      <td>PE</td>\n",
       "      <td>Recife</td>\n",
       "      <td>NaN</td>\n",
       "      <td>M</td>\n",
       "      <td>1</td>\n",
       "      <td>0</td>\n",
       "      <td>...</td>\n",
       "      <td>0</td>\n",
       "      <td>0</td>\n",
       "      <td>559.70</td>\n",
       "      <td>681.60</td>\n",
       "      <td>569.9</td>\n",
       "      <td>797.30</td>\n",
       "      <td>0</td>\n",
       "      <td>1</td>\n",
       "      <td>740.0</td>\n",
       "      <td>669.700</td>\n",
       "    </tr>\n",
       "  </tbody>\n",
       "</table>\n",
       "<p>5 rows × 21 columns</p>\n",
       "</div>"
      ],
      "text/plain": [
       "   NU_ANO  CO_UF_RESIDENCIA  CO_MUNICIPIO_RESIDENCIA  NU_INSCRICAO  \\\n",
       "0  2015.0              26.0                2609600.0  1.500000e+11   \n",
       "1  2015.0              52.0                5211909.0  1.500000e+11   \n",
       "2  2015.0              27.0                2704302.0  1.500000e+11   \n",
       "3  2015.0              14.0                1400100.0  1.500000e+11   \n",
       "4  2015.0              26.0                2611606.0  1.500000e+11   \n",
       "\n",
       "  SG_UF_RESIDENCIA NO_MUNICIPIO_RESIDENCIA  NU_IDADE TP_SEXO TP_ESCOLA  \\\n",
       "0               PE                  Olinda       NaN       M         1   \n",
       "1               GO                   Jataí      43.0       F         1   \n",
       "2               AL                  Maceió      18.0       F         1   \n",
       "3               RR               Boa Vista      34.0       M         1   \n",
       "4               PE                  Recife       NaN       M         1   \n",
       "\n",
       "  IN_DEFICIENCIA_FISICA     ...     IN_DEFICIENCIA_AUDITIVA  \\\n",
       "0                     0     ...                           0   \n",
       "1                     0     ...                           0   \n",
       "2                     0     ...                           0   \n",
       "3                     0     ...                           0   \n",
       "4                     0     ...                           0   \n",
       "\n",
       "  IN_CADEIRA_CANHOTO NU_NOTA_CN  NU_NOTA_CH  NU_NOTA_LC  NU_NOTA_MT  \\\n",
       "0                  0     443.60      519.10       521.2      385.70   \n",
       "1                  0       4.05      428.90       340.3      453.40   \n",
       "2                  0     673.70        6.73       600.5        7.51   \n",
       "3                  0     457.90      598.90       532.8      506.20   \n",
       "4                  0     559.70      681.60       569.9      797.30   \n",
       "\n",
       "   TP_LINGUA TP_STATUS_REDACAO NU_NOTA_REDACAO  NOTA_MEDIA  \n",
       "0          0                 1           520.0     477.920  \n",
       "1          0                 1           480.0     341.330  \n",
       "2          0                 1           880.0     433.688  \n",
       "3          1                 1           600.0     539.160  \n",
       "4          0                 1           740.0     669.700  \n",
       "\n",
       "[5 rows x 21 columns]"
      ]
     },
     "execution_count": 21,
     "metadata": {},
     "output_type": "execute_result"
    }
   ],
   "source": [
    "import pandas as pd\n",
    "from matplotlib import pyplot as plt\n",
    "import seaborn as sns\n",
    "%matplotlib inline\n",
    "\n",
    "df = pd.read_sas(\"ENEM_2015_2017_10p_miss.sas7bdat\", encoding = 'latin-1')\n",
    "# Poderia ser outras como cp1252, mas o objetivo é colocar em linguagem legível. No caso latin-1 é para linguas derivadas do latim.\n",
    "\n",
    "df.head()\n",
    "# primeiras 5 linhas"
   ]
  },
  {
   "cell_type": "code",
   "execution_count": 7,
   "metadata": {},
   "outputs": [
    {
     "data": {
      "text/html": [
       "<div>\n",
       "<style scoped>\n",
       "    .dataframe tbody tr th:only-of-type {\n",
       "        vertical-align: middle;\n",
       "    }\n",
       "\n",
       "    .dataframe tbody tr th {\n",
       "        vertical-align: top;\n",
       "    }\n",
       "\n",
       "    .dataframe thead th {\n",
       "        text-align: right;\n",
       "    }\n",
       "</style>\n",
       "<table border=\"1\" class=\"dataframe\">\n",
       "  <thead>\n",
       "    <tr style=\"text-align: right;\">\n",
       "      <th></th>\n",
       "      <th>NU_ANO</th>\n",
       "      <th>CO_UF_RESIDENCIA</th>\n",
       "      <th>CO_MUNICIPIO_RESIDENCIA</th>\n",
       "      <th>NU_INSCRICAO</th>\n",
       "      <th>SG_UF_RESIDENCIA</th>\n",
       "      <th>NO_MUNICIPIO_RESIDENCIA</th>\n",
       "      <th>NU_IDADE</th>\n",
       "      <th>TP_SEXO</th>\n",
       "      <th>TP_ESCOLA</th>\n",
       "      <th>IN_DEFICIENCIA_FISICA</th>\n",
       "      <th>...</th>\n",
       "      <th>IN_DEFICIENCIA_AUDITIVA</th>\n",
       "      <th>IN_CADEIRA_CANHOTO</th>\n",
       "      <th>NU_NOTA_CN</th>\n",
       "      <th>NU_NOTA_CH</th>\n",
       "      <th>NU_NOTA_LC</th>\n",
       "      <th>NU_NOTA_MT</th>\n",
       "      <th>TP_LINGUA</th>\n",
       "      <th>TP_STATUS_REDACAO</th>\n",
       "      <th>NU_NOTA_REDACAO</th>\n",
       "      <th>NOTA_MEDIA</th>\n",
       "    </tr>\n",
       "  </thead>\n",
       "  <tbody>\n",
       "    <tr>\n",
       "      <th>1339250</th>\n",
       "      <td>2017.0</td>\n",
       "      <td>24.0</td>\n",
       "      <td>2404200.0</td>\n",
       "      <td>1.700067e+11</td>\n",
       "      <td>RN</td>\n",
       "      <td>Goianinha</td>\n",
       "      <td>26.0</td>\n",
       "      <td>F</td>\n",
       "      <td>1</td>\n",
       "      <td>0</td>\n",
       "      <td>...</td>\n",
       "      <td>0</td>\n",
       "      <td>0</td>\n",
       "      <td>406.60</td>\n",
       "      <td>535.5</td>\n",
       "      <td>475.80</td>\n",
       "      <td>608.8</td>\n",
       "      <td>1</td>\n",
       "      <td>1</td>\n",
       "      <td>600.0</td>\n",
       "      <td>525.34</td>\n",
       "    </tr>\n",
       "    <tr>\n",
       "      <th>1339251</th>\n",
       "      <td>2017.0</td>\n",
       "      <td>27.0</td>\n",
       "      <td>2704302.0</td>\n",
       "      <td>1.700067e+11</td>\n",
       "      <td>AL</td>\n",
       "      <td>Maceió</td>\n",
       "      <td>20.0</td>\n",
       "      <td>F</td>\n",
       "      <td>1</td>\n",
       "      <td>0</td>\n",
       "      <td>...</td>\n",
       "      <td>0</td>\n",
       "      <td>0</td>\n",
       "      <td>4.51</td>\n",
       "      <td>464.2</td>\n",
       "      <td>4.04</td>\n",
       "      <td>403.7</td>\n",
       "      <td>1</td>\n",
       "      <td>1</td>\n",
       "      <td>520.0</td>\n",
       "      <td>279.29</td>\n",
       "    </tr>\n",
       "    <tr>\n",
       "      <th>1339252</th>\n",
       "      <td>2017.0</td>\n",
       "      <td>13.0</td>\n",
       "      <td>1302603.0</td>\n",
       "      <td>1.700067e+11</td>\n",
       "      <td>AM</td>\n",
       "      <td>Manaus</td>\n",
       "      <td>18.0</td>\n",
       "      <td>F</td>\n",
       "      <td>1</td>\n",
       "      <td>0</td>\n",
       "      <td>...</td>\n",
       "      <td>0</td>\n",
       "      <td>0</td>\n",
       "      <td>492.40</td>\n",
       "      <td>518.6</td>\n",
       "      <td>507.70</td>\n",
       "      <td>419.4</td>\n",
       "      <td>1</td>\n",
       "      <td>1</td>\n",
       "      <td>560.0</td>\n",
       "      <td>499.62</td>\n",
       "    </tr>\n",
       "    <tr>\n",
       "      <th>1339253</th>\n",
       "      <td>2017.0</td>\n",
       "      <td>41.0</td>\n",
       "      <td>4124202.0</td>\n",
       "      <td>1.700067e+11</td>\n",
       "      <td>PR</td>\n",
       "      <td>Santo Antônio do Caiuá</td>\n",
       "      <td>19.0</td>\n",
       "      <td>M</td>\n",
       "      <td>1</td>\n",
       "      <td>0</td>\n",
       "      <td>...</td>\n",
       "      <td>0</td>\n",
       "      <td>0</td>\n",
       "      <td>456.10</td>\n",
       "      <td>405.7</td>\n",
       "      <td>468.10</td>\n",
       "      <td>355.5</td>\n",
       "      <td>0</td>\n",
       "      <td>1</td>\n",
       "      <td>560.0</td>\n",
       "      <td>449.08</td>\n",
       "    </tr>\n",
       "    <tr>\n",
       "      <th>1339254</th>\n",
       "      <td>2017.0</td>\n",
       "      <td>23.0</td>\n",
       "      <td>2304400.0</td>\n",
       "      <td>1.700067e+11</td>\n",
       "      <td>CE</td>\n",
       "      <td>Fortaleza</td>\n",
       "      <td>32.0</td>\n",
       "      <td>F</td>\n",
       "      <td>1</td>\n",
       "      <td>0</td>\n",
       "      <td>...</td>\n",
       "      <td>0</td>\n",
       "      <td>0</td>\n",
       "      <td>485.20</td>\n",
       "      <td>496.7</td>\n",
       "      <td>4.85</td>\n",
       "      <td>496.6</td>\n",
       "      <td>1</td>\n",
       "      <td>1</td>\n",
       "      <td>600.0</td>\n",
       "      <td>416.67</td>\n",
       "    </tr>\n",
       "  </tbody>\n",
       "</table>\n",
       "<p>5 rows × 21 columns</p>\n",
       "</div>"
      ],
      "text/plain": [
       "         NU_ANO  CO_UF_RESIDENCIA  CO_MUNICIPIO_RESIDENCIA  NU_INSCRICAO  \\\n",
       "1339250  2017.0              24.0                2404200.0  1.700067e+11   \n",
       "1339251  2017.0              27.0                2704302.0  1.700067e+11   \n",
       "1339252  2017.0              13.0                1302603.0  1.700067e+11   \n",
       "1339253  2017.0              41.0                4124202.0  1.700067e+11   \n",
       "1339254  2017.0              23.0                2304400.0  1.700067e+11   \n",
       "\n",
       "        SG_UF_RESIDENCIA NO_MUNICIPIO_RESIDENCIA  NU_IDADE TP_SEXO TP_ESCOLA  \\\n",
       "1339250               RN               Goianinha      26.0       F         1   \n",
       "1339251               AL                  Maceió      20.0       F         1   \n",
       "1339252               AM                  Manaus      18.0       F         1   \n",
       "1339253               PR  Santo Antônio do Caiuá      19.0       M         1   \n",
       "1339254               CE               Fortaleza      32.0       F         1   \n",
       "\n",
       "        IN_DEFICIENCIA_FISICA     ...     IN_DEFICIENCIA_AUDITIVA  \\\n",
       "1339250                     0     ...                           0   \n",
       "1339251                     0     ...                           0   \n",
       "1339252                     0     ...                           0   \n",
       "1339253                     0     ...                           0   \n",
       "1339254                     0     ...                           0   \n",
       "\n",
       "        IN_CADEIRA_CANHOTO NU_NOTA_CN  NU_NOTA_CH  NU_NOTA_LC  NU_NOTA_MT  \\\n",
       "1339250                  0     406.60       535.5      475.80       608.8   \n",
       "1339251                  0       4.51       464.2        4.04       403.7   \n",
       "1339252                  0     492.40       518.6      507.70       419.4   \n",
       "1339253                  0     456.10       405.7      468.10       355.5   \n",
       "1339254                  0     485.20       496.7        4.85       496.6   \n",
       "\n",
       "         TP_LINGUA TP_STATUS_REDACAO NU_NOTA_REDACAO  NOTA_MEDIA  \n",
       "1339250          1                 1           600.0      525.34  \n",
       "1339251          1                 1           520.0      279.29  \n",
       "1339252          1                 1           560.0      499.62  \n",
       "1339253          0                 1           560.0      449.08  \n",
       "1339254          1                 1           600.0      416.67  \n",
       "\n",
       "[5 rows x 21 columns]"
      ]
     },
     "execution_count": 7,
     "metadata": {},
     "output_type": "execute_result"
    }
   ],
   "source": [
    "df.tail()\n",
    "# últimas 5 linhas"
   ]
  },
  {
   "cell_type": "code",
   "execution_count": 9,
   "metadata": {},
   "outputs": [
    {
     "data": {
      "text/plain": [
       "(1339255, 21)"
      ]
     },
     "execution_count": 9,
     "metadata": {},
     "output_type": "execute_result"
    }
   ],
   "source": [
    "df.shape\n",
    "# total de linhas e colunas"
   ]
  },
  {
   "cell_type": "code",
   "execution_count": 11,
   "metadata": {},
   "outputs": [
    {
     "name": "stdout",
     "output_type": "stream",
     "text": [
      "<class 'pandas.core.frame.DataFrame'>\n",
      "RangeIndex: 1339255 entries, 0 to 1339254\n",
      "Data columns (total 21 columns):\n",
      "NU_ANO                     1339255 non-null float64\n",
      "CO_UF_RESIDENCIA           1339255 non-null float64\n",
      "CO_MUNICIPIO_RESIDENCIA    1339255 non-null float64\n",
      "NU_INSCRICAO               1339255 non-null float64\n",
      "SG_UF_RESIDENCIA           1339255 non-null object\n",
      "NO_MUNICIPIO_RESIDENCIA    1339255 non-null object\n",
      "NU_IDADE                   1312455 non-null float64\n",
      "TP_SEXO                    1339255 non-null object\n",
      "TP_ESCOLA                  1325862 non-null object\n",
      "IN_DEFICIENCIA_FISICA      1339255 non-null object\n",
      "IN_BAIXA_VISAO             1339255 non-null object\n",
      "IN_DEFICIENCIA_AUDITIVA    1339255 non-null object\n",
      "IN_CADEIRA_CANHOTO         1339255 non-null object\n",
      "NU_NOTA_CN                 1339255 non-null float64\n",
      "NU_NOTA_CH                 1339255 non-null float64\n",
      "NU_NOTA_LC                 1299077 non-null float64\n",
      "NU_NOTA_MT                 1339255 non-null float64\n",
      "TP_LINGUA                  1339255 non-null object\n",
      "TP_STATUS_REDACAO          1339255 non-null object\n",
      "NU_NOTA_REDACAO            1339255 non-null float64\n",
      "NOTA_MEDIA                 1339255 non-null float64\n",
      "dtypes: float64(11), object(10)\n",
      "memory usage: 214.6+ MB\n"
     ]
    }
   ],
   "source": [
    "df.info()\n",
    "# informações mais explanadas"
   ]
  },
  {
   "cell_type": "code",
   "execution_count": 14,
   "metadata": {},
   "outputs": [
    {
     "data": {
      "text/plain": [
       "0    1336172\n",
       "1       3083\n",
       "Name: IN_DEFICIENCIA_FISICA, dtype: int64"
      ]
     },
     "execution_count": 14,
     "metadata": {},
     "output_type": "execute_result"
    }
   ],
   "source": [
    "df['IN_DEFICIENCIA_FISICA'].value_counts()\n",
    "# Verificar valores de \"IN_DEFICIENCIA_FISICA\" (coluna)"
   ]
  },
  {
   "cell_type": "code",
   "execution_count": 17,
   "metadata": {},
   "outputs": [],
   "source": [
    "df1 = df[df['IN_DEFICIENCIA_FISICA'] == '1']\n",
    "# Separar deficientes (não tem retorno)"
   ]
  },
  {
   "cell_type": "code",
   "execution_count": 18,
   "metadata": {},
   "outputs": [
    {
     "data": {
      "text/plain": [
       "(3083, 21)"
      ]
     },
     "execution_count": 18,
     "metadata": {},
     "output_type": "execute_result"
    }
   ],
   "source": [
    "df1.shape"
   ]
  },
  {
   "cell_type": "code",
   "execution_count": 19,
   "metadata": {},
   "outputs": [
    {
     "data": {
      "text/plain": [
       "SP    444\n",
       "MG    351\n",
       "BA    206\n",
       "RJ    196\n",
       "PA    175\n",
       "PE    164\n",
       "RS    158\n",
       "CE    147\n",
       "PB    125\n",
       "MA    125\n",
       "PR    113\n",
       "GO    113\n",
       "RN    104\n",
       "PI     85\n",
       "DF     68\n",
       "SE     66\n",
       "ES     60\n",
       "AM     56\n",
       "SC     53\n",
       "RO     49\n",
       "MT     49\n",
       "AL     45\n",
       "MS     45\n",
       "AC     30\n",
       "AP     26\n",
       "TO     22\n",
       "RR      8\n",
       "Name: SG_UF_RESIDENCIA, dtype: int64"
      ]
     },
     "execution_count": 19,
     "metadata": {},
     "output_type": "execute_result"
    }
   ],
   "source": [
    "df1['SG_UF_RESIDENCIA'].value_counts()\n",
    "# Distribuição por UF dos deficientes físicos"
   ]
  },
  {
   "cell_type": "code",
   "execution_count": 22,
   "metadata": {},
   "outputs": [
    {
     "data": {
      "text/plain": [
       "<matplotlib.axes._subplots.AxesSubplot at 0x2268f5c8630>"
      ]
     },
     "execution_count": 22,
     "metadata": {},
     "output_type": "execute_result"
    },
    {
     "data": {
      "image/png": "[encoded data removed]",
      "text/plain": [
       "<Figure size 432x288 with 1 Axes>"
      ]
     },
     "metadata": {
      "needs_background": "light"
     },
     "output_type": "display_data"
    }
   ],
   "source": [
    "df1['SG_UF_RESIDENCIA'].value_counts().plot.bar()\n",
    "# Plot de distribuição de deficientes físicos por UF"
   ]
  },
  {
   "cell_type": "code",
   "execution_count": 23,
   "metadata": {},
   "outputs": [
    {
     "data": {
      "text/plain": [
       "M    1748\n",
       "F    1335\n",
       "Name: TP_SEXO, dtype: int64"
      ]
     },
     "execution_count": 23,
     "metadata": {},
     "output_type": "execute_result"
    }
   ],
   "source": [
    "df1['TP_SEXO'].value_counts()\n",
    "# Outra divisão dos dados de deficientes físicos"
   ]
  },
  {
   "cell_type": "code",
   "execution_count": 24,
   "metadata": {},
   "outputs": [
    {
     "data": {
      "text/plain": [
       "<matplotlib.axes._subplots.AxesSubplot at 0x226976a14e0>"
      ]
     },
     "execution_count": 24,
     "metadata": {},
     "output_type": "execute_result"
    },
    {
     "data": {
      "image/png": "[encoded data removed]",
      "text/plain": [
       "<Figure size 432x288 with 1 Axes>"
      ]
     },
     "metadata": {},
     "output_type": "display_data"
    }
   ],
   "source": [
    "df1['TP_SEXO'].value_counts().plot.pie()\n",
    "# Em pizza!!!"
   ]
  },
  {
   "cell_type": "code",
   "execution_count": 28,
   "metadata": {},
   "outputs": [
    {
     "data": {
      "text/plain": [
       "<matplotlib.axes._subplots.AxesSubplot at 0x2268f4e5860>"
      ]
     },
     "execution_count": 28,
     "metadata": {},
     "output_type": "execute_result"
    },
    {
     "data": {
      "image/png": "[encoded data removed]",
      "text/plain": [
       "<Figure size 432x288 with 1 Axes>"
      ]
     },
     "metadata": {
      "needs_background": "light"
     },
     "output_type": "display_data"
    }
   ],
   "source": [
    "df[df['IN_DEFICIENCIA_FISICA'] == '1']['TP_SEXO'].value_counts().plot.bar()\n",
    "# Repetindo análise de deficientes físicos por sexo, sem criar um novo data frame"
   ]
  }
 ],
 "metadata": {
  "kernelspec": {
   "display_name": "Python 3",
   "language": "python",
   "name": "python3"
  },
  "language_info": {
   "codemirror_mode": {
    "name": "ipython",
    "version": 3
   },
   "file_extension": ".py",
   "mimetype": "text/x-python",
   "name": "python",
   "nbconvert_exporter": "python",
   "pygments_lexer": "ipython3",
   "version": "3.7.0"
  }
 },
 "nbformat": 4,
 "nbformat_minor": 2
}
